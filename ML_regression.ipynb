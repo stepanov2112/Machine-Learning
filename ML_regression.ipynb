{
 "cells": [
  {
   "cell_type": "markdown",
   "metadata": {},
   "source": [
    "# Задача регрессии\n",
    "<ul>\n",
    "    <li>Исследуемый датасет: <a>https://www.kaggle.com/neuromusic/avocado-prices</a></li>\n",
    "    <li>Описание задачи: Вычислить цену авокадо</li>\n",
    "</ul>"
   ]
  },
  {
   "cell_type": "code",
   "execution_count": 1,
   "metadata": {},
   "outputs": [],
   "source": [
    "import numpy as np\n",
    "import pandas as pd\n",
    "import seaborn as sns\n",
    "import sklearn\n",
    "import matplotlib.pyplot as plt\n",
    "\n",
    "from sklearn.model_selection import train_test_split\n",
    "from sklearn.linear_model import LinearRegression"
   ]
  },
  {
   "cell_type": "code",
   "execution_count": 2,
   "metadata": {},
   "outputs": [],
   "source": [
    "dataset = pd.read_csv(\"datasets/avocado/avocado.csv\",index_col=0)"
   ]
  },
  {
   "cell_type": "markdown",
   "metadata": {},
   "source": [
    "нет пропущенных данных"
   ]
  },
  {
   "cell_type": "code",
   "execution_count": 3,
   "metadata": {},
   "outputs": [
    {
     "data": {
      "text/html": [
       "<div>\n",
       "<style scoped>\n",
       "    .dataframe tbody tr th:only-of-type {\n",
       "        vertical-align: middle;\n",
       "    }\n",
       "\n",
       "    .dataframe tbody tr th {\n",
       "        vertical-align: top;\n",
       "    }\n",
       "\n",
       "    .dataframe thead th {\n",
       "        text-align: right;\n",
       "    }\n",
       "</style>\n",
       "<table border=\"1\" class=\"dataframe\">\n",
       "  <thead>\n",
       "    <tr style=\"text-align: right;\">\n",
       "      <th></th>\n",
       "      <th>Date</th>\n",
       "      <th>AveragePrice</th>\n",
       "      <th>Total Volume</th>\n",
       "      <th>4046</th>\n",
       "      <th>4225</th>\n",
       "      <th>4770</th>\n",
       "      <th>Total Bags</th>\n",
       "      <th>Small Bags</th>\n",
       "      <th>Large Bags</th>\n",
       "      <th>XLarge Bags</th>\n",
       "      <th>type</th>\n",
       "      <th>year</th>\n",
       "      <th>region</th>\n",
       "    </tr>\n",
       "  </thead>\n",
       "  <tbody>\n",
       "    <tr>\n",
       "      <th>21</th>\n",
       "      <td>2017-08-06</td>\n",
       "      <td>1.43</td>\n",
       "      <td>10179.13</td>\n",
       "      <td>861.22</td>\n",
       "      <td>28.71</td>\n",
       "      <td>0.00</td>\n",
       "      <td>9289.20</td>\n",
       "      <td>9289.20</td>\n",
       "      <td>0.00</td>\n",
       "      <td>0.00</td>\n",
       "      <td>organic</td>\n",
       "      <td>2017</td>\n",
       "      <td>Pittsburgh</td>\n",
       "    </tr>\n",
       "    <tr>\n",
       "      <th>12</th>\n",
       "      <td>2017-10-08</td>\n",
       "      <td>1.64</td>\n",
       "      <td>195455.06</td>\n",
       "      <td>62574.22</td>\n",
       "      <td>60756.44</td>\n",
       "      <td>75.85</td>\n",
       "      <td>72048.55</td>\n",
       "      <td>47487.79</td>\n",
       "      <td>24560.76</td>\n",
       "      <td>0.00</td>\n",
       "      <td>conventional</td>\n",
       "      <td>2017</td>\n",
       "      <td>LasVegas</td>\n",
       "    </tr>\n",
       "    <tr>\n",
       "      <th>35</th>\n",
       "      <td>2016-04-24</td>\n",
       "      <td>1.64</td>\n",
       "      <td>3650.65</td>\n",
       "      <td>1906.63</td>\n",
       "      <td>95.77</td>\n",
       "      <td>14.92</td>\n",
       "      <td>1633.33</td>\n",
       "      <td>1633.33</td>\n",
       "      <td>0.00</td>\n",
       "      <td>0.00</td>\n",
       "      <td>organic</td>\n",
       "      <td>2016</td>\n",
       "      <td>Jacksonville</td>\n",
       "    </tr>\n",
       "    <tr>\n",
       "      <th>12</th>\n",
       "      <td>2017-10-08</td>\n",
       "      <td>1.66</td>\n",
       "      <td>87278.58</td>\n",
       "      <td>26135.12</td>\n",
       "      <td>16257.01</td>\n",
       "      <td>73.31</td>\n",
       "      <td>44813.14</td>\n",
       "      <td>38450.63</td>\n",
       "      <td>6362.51</td>\n",
       "      <td>0.00</td>\n",
       "      <td>conventional</td>\n",
       "      <td>2017</td>\n",
       "      <td>Roanoke</td>\n",
       "    </tr>\n",
       "    <tr>\n",
       "      <th>41</th>\n",
       "      <td>2017-03-19</td>\n",
       "      <td>1.04</td>\n",
       "      <td>6242381.13</td>\n",
       "      <td>2318973.17</td>\n",
       "      <td>1100226.44</td>\n",
       "      <td>142718.03</td>\n",
       "      <td>2680463.49</td>\n",
       "      <td>1775537.50</td>\n",
       "      <td>900751.44</td>\n",
       "      <td>4174.55</td>\n",
       "      <td>conventional</td>\n",
       "      <td>2017</td>\n",
       "      <td>West</td>\n",
       "    </tr>\n",
       "  </tbody>\n",
       "</table>\n",
       "</div>"
      ],
      "text/plain": [
       "          Date  AveragePrice  Total Volume        4046        4225       4770  \\\n",
       "21  2017-08-06          1.43      10179.13      861.22       28.71       0.00   \n",
       "12  2017-10-08          1.64     195455.06    62574.22    60756.44      75.85   \n",
       "35  2016-04-24          1.64       3650.65     1906.63       95.77      14.92   \n",
       "12  2017-10-08          1.66      87278.58    26135.12    16257.01      73.31   \n",
       "41  2017-03-19          1.04    6242381.13  2318973.17  1100226.44  142718.03   \n",
       "\n",
       "    Total Bags  Small Bags  Large Bags  XLarge Bags          type  year  \\\n",
       "21     9289.20     9289.20        0.00         0.00       organic  2017   \n",
       "12    72048.55    47487.79    24560.76         0.00  conventional  2017   \n",
       "35     1633.33     1633.33        0.00         0.00       organic  2016   \n",
       "12    44813.14    38450.63     6362.51         0.00  conventional  2017   \n",
       "41  2680463.49  1775537.50   900751.44      4174.55  conventional  2017   \n",
       "\n",
       "          region  \n",
       "21    Pittsburgh  \n",
       "12      LasVegas  \n",
       "35  Jacksonville  \n",
       "12       Roanoke  \n",
       "41          West  "
      ]
     },
     "execution_count": 3,
     "metadata": {},
     "output_type": "execute_result"
    }
   ],
   "source": [
    "dataset.sample(5)"
   ]
  },
  {
   "cell_type": "code",
   "execution_count": 4,
   "metadata": {
    "scrolled": true
   },
   "outputs": [
    {
     "data": {
      "text/plain": [
       "Date            0\n",
       "AveragePrice    0\n",
       "Total Volume    0\n",
       "4046            0\n",
       "4225            0\n",
       "4770            0\n",
       "Total Bags      0\n",
       "Small Bags      0\n",
       "Large Bags      0\n",
       "XLarge Bags     0\n",
       "type            0\n",
       "year            0\n",
       "region          0\n",
       "dtype: int64"
      ]
     },
     "execution_count": 4,
     "metadata": {},
     "output_type": "execute_result"
    }
   ],
   "source": [
    "dataset.isnull().sum()"
   ]
  },
  {
   "cell_type": "markdown",
   "metadata": {},
   "source": [
    "<b>Преобразование типа object к числовым типам</b>"
   ]
  },
  {
   "cell_type": "code",
   "execution_count": 5,
   "metadata": {},
   "outputs": [
    {
     "data": {
      "text/plain": [
       "{'type': array(['conventional', 'organic'], dtype=object),\n",
       " 'region': array(['Albany', 'Atlanta', 'BaltimoreWashington', 'Boise', 'Boston',\n",
       "        'BuffaloRochester', 'California', 'Charlotte', 'Chicago',\n",
       "        'CincinnatiDayton', 'Columbus', 'DallasFtWorth', 'Denver',\n",
       "        'Detroit', 'GrandRapids', 'GreatLakes', 'HarrisburgScranton',\n",
       "        'HartfordSpringfield', 'Houston', 'Indianapolis', 'Jacksonville',\n",
       "        'LasVegas', 'LosAngeles', 'Louisville', 'MiamiFtLauderdale',\n",
       "        'Midsouth', 'Nashville', 'NewOrleansMobile', 'NewYork',\n",
       "        'Northeast', 'NorthernNewEngland', 'Orlando', 'Philadelphia',\n",
       "        'PhoenixTucson', 'Pittsburgh', 'Plains', 'Portland',\n",
       "        'RaleighGreensboro', 'RichmondNorfolk', 'Roanoke', 'Sacramento',\n",
       "        'SanDiego', 'SanFrancisco', 'Seattle', 'SouthCarolina',\n",
       "        'SouthCentral', 'Southeast', 'Spokane', 'StLouis', 'Syracuse',\n",
       "        'Tampa', 'TotalUS', 'West', 'WestTexNewMexico'], dtype=object)}"
      ]
     },
     "execution_count": 5,
     "metadata": {},
     "output_type": "execute_result"
    }
   ],
   "source": [
    "du = {\"type\":[],\"region\":[]}\n",
    "for i in du.keys():\n",
    "    du[i] = dataset[i].unique()\n",
    "du"
   ]
  },
  {
   "cell_type": "code",
   "execution_count": 6,
   "metadata": {
    "scrolled": true
   },
   "outputs": [
    {
     "data": {
      "text/plain": [
       "({'type': {'conventional': 0, 'organic': 1},\n",
       "  'region': {'Albany': 0,\n",
       "   'Atlanta': 1,\n",
       "   'BaltimoreWashington': 2,\n",
       "   'Boise': 3,\n",
       "   'Boston': 4,\n",
       "   'BuffaloRochester': 5,\n",
       "   'California': 6,\n",
       "   'Charlotte': 7,\n",
       "   'Chicago': 8,\n",
       "   'CincinnatiDayton': 9,\n",
       "   'Columbus': 10,\n",
       "   'DallasFtWorth': 11,\n",
       "   'Denver': 12,\n",
       "   'Detroit': 13,\n",
       "   'GrandRapids': 14,\n",
       "   'GreatLakes': 15,\n",
       "   'HarrisburgScranton': 16,\n",
       "   'HartfordSpringfield': 17,\n",
       "   'Houston': 18,\n",
       "   'Indianapolis': 19,\n",
       "   'Jacksonville': 20,\n",
       "   'LasVegas': 21,\n",
       "   'LosAngeles': 22,\n",
       "   'Louisville': 23,\n",
       "   'MiamiFtLauderdale': 24,\n",
       "   'Midsouth': 25,\n",
       "   'Nashville': 26,\n",
       "   'NewOrleansMobile': 27,\n",
       "   'NewYork': 28,\n",
       "   'Northeast': 29,\n",
       "   'NorthernNewEngland': 30,\n",
       "   'Orlando': 31,\n",
       "   'Philadelphia': 32,\n",
       "   'PhoenixTucson': 33,\n",
       "   'Pittsburgh': 34,\n",
       "   'Plains': 35,\n",
       "   'Portland': 36,\n",
       "   'RaleighGreensboro': 37,\n",
       "   'RichmondNorfolk': 38,\n",
       "   'Roanoke': 39,\n",
       "   'Sacramento': 40,\n",
       "   'SanDiego': 41,\n",
       "   'SanFrancisco': 42,\n",
       "   'Seattle': 43,\n",
       "   'SouthCarolina': 44,\n",
       "   'SouthCentral': 45,\n",
       "   'Southeast': 46,\n",
       "   'Spokane': 47,\n",
       "   'StLouis': 48,\n",
       "   'Syracuse': 49,\n",
       "   'Tampa': 50,\n",
       "   'TotalUS': 51,\n",
       "   'West': 52,\n",
       "   'WestTexNewMexico': 53}},\n",
       " {'type': {0: 'conventional', 1: 'organic'},\n",
       "  'region': {0: 'Albany',\n",
       "   1: 'Atlanta',\n",
       "   2: 'BaltimoreWashington',\n",
       "   3: 'Boise',\n",
       "   4: 'Boston',\n",
       "   5: 'BuffaloRochester',\n",
       "   6: 'California',\n",
       "   7: 'Charlotte',\n",
       "   8: 'Chicago',\n",
       "   9: 'CincinnatiDayton',\n",
       "   10: 'Columbus',\n",
       "   11: 'DallasFtWorth',\n",
       "   12: 'Denver',\n",
       "   13: 'Detroit',\n",
       "   14: 'GrandRapids',\n",
       "   15: 'GreatLakes',\n",
       "   16: 'HarrisburgScranton',\n",
       "   17: 'HartfordSpringfield',\n",
       "   18: 'Houston',\n",
       "   19: 'Indianapolis',\n",
       "   20: 'Jacksonville',\n",
       "   21: 'LasVegas',\n",
       "   22: 'LosAngeles',\n",
       "   23: 'Louisville',\n",
       "   24: 'MiamiFtLauderdale',\n",
       "   25: 'Midsouth',\n",
       "   26: 'Nashville',\n",
       "   27: 'NewOrleansMobile',\n",
       "   28: 'NewYork',\n",
       "   29: 'Northeast',\n",
       "   30: 'NorthernNewEngland',\n",
       "   31: 'Orlando',\n",
       "   32: 'Philadelphia',\n",
       "   33: 'PhoenixTucson',\n",
       "   34: 'Pittsburgh',\n",
       "   35: 'Plains',\n",
       "   36: 'Portland',\n",
       "   37: 'RaleighGreensboro',\n",
       "   38: 'RichmondNorfolk',\n",
       "   39: 'Roanoke',\n",
       "   40: 'Sacramento',\n",
       "   41: 'SanDiego',\n",
       "   42: 'SanFrancisco',\n",
       "   43: 'Seattle',\n",
       "   44: 'SouthCarolina',\n",
       "   45: 'SouthCentral',\n",
       "   46: 'Southeast',\n",
       "   47: 'Spokane',\n",
       "   48: 'StLouis',\n",
       "   49: 'Syracuse',\n",
       "   50: 'Tampa',\n",
       "   51: 'TotalUS',\n",
       "   52: 'West',\n",
       "   53: 'WestTexNewMexico'}})"
      ]
     },
     "execution_count": 6,
     "metadata": {},
     "output_type": "execute_result"
    }
   ],
   "source": [
    "du_encoder, du_decoder = du.copy(), du.copy()\n",
    "for i in du:\n",
    "    du_encoder[i] = { du[i][j]:j for j in range(0, len(du[i]))}\n",
    "    du_decoder[i] = { j:du[i][j] for j in range(0, len(du[i]))}\n",
    "\n",
    "du_encoder, du_decoder"
   ]
  },
  {
   "cell_type": "markdown",
   "metadata": {},
   "source": [
    "Удааление ненужной колонки с датой"
   ]
  },
  {
   "cell_type": "code",
   "execution_count": 7,
   "metadata": {},
   "outputs": [
    {
     "data": {
      "text/html": [
       "<div>\n",
       "<style scoped>\n",
       "    .dataframe tbody tr th:only-of-type {\n",
       "        vertical-align: middle;\n",
       "    }\n",
       "\n",
       "    .dataframe tbody tr th {\n",
       "        vertical-align: top;\n",
       "    }\n",
       "\n",
       "    .dataframe thead th {\n",
       "        text-align: right;\n",
       "    }\n",
       "</style>\n",
       "<table border=\"1\" class=\"dataframe\">\n",
       "  <thead>\n",
       "    <tr style=\"text-align: right;\">\n",
       "      <th></th>\n",
       "      <th>AveragePrice</th>\n",
       "      <th>Total Volume</th>\n",
       "      <th>4046</th>\n",
       "      <th>4225</th>\n",
       "      <th>4770</th>\n",
       "      <th>Total Bags</th>\n",
       "      <th>Small Bags</th>\n",
       "      <th>Large Bags</th>\n",
       "      <th>XLarge Bags</th>\n",
       "      <th>type</th>\n",
       "      <th>year</th>\n",
       "      <th>region</th>\n",
       "    </tr>\n",
       "  </thead>\n",
       "  <tbody>\n",
       "    <tr>\n",
       "      <th>0</th>\n",
       "      <td>1.33</td>\n",
       "      <td>64236.62</td>\n",
       "      <td>1036.74</td>\n",
       "      <td>54454.85</td>\n",
       "      <td>48.16</td>\n",
       "      <td>8696.87</td>\n",
       "      <td>8603.62</td>\n",
       "      <td>93.25</td>\n",
       "      <td>0.0</td>\n",
       "      <td>0</td>\n",
       "      <td>2015</td>\n",
       "      <td>0</td>\n",
       "    </tr>\n",
       "    <tr>\n",
       "      <th>1</th>\n",
       "      <td>1.35</td>\n",
       "      <td>54876.98</td>\n",
       "      <td>674.28</td>\n",
       "      <td>44638.81</td>\n",
       "      <td>58.33</td>\n",
       "      <td>9505.56</td>\n",
       "      <td>9408.07</td>\n",
       "      <td>97.49</td>\n",
       "      <td>0.0</td>\n",
       "      <td>0</td>\n",
       "      <td>2015</td>\n",
       "      <td>0</td>\n",
       "    </tr>\n",
       "    <tr>\n",
       "      <th>2</th>\n",
       "      <td>0.93</td>\n",
       "      <td>118220.22</td>\n",
       "      <td>794.70</td>\n",
       "      <td>109149.67</td>\n",
       "      <td>130.50</td>\n",
       "      <td>8145.35</td>\n",
       "      <td>8042.21</td>\n",
       "      <td>103.14</td>\n",
       "      <td>0.0</td>\n",
       "      <td>0</td>\n",
       "      <td>2015</td>\n",
       "      <td>0</td>\n",
       "    </tr>\n",
       "    <tr>\n",
       "      <th>3</th>\n",
       "      <td>1.08</td>\n",
       "      <td>78992.15</td>\n",
       "      <td>1132.00</td>\n",
       "      <td>71976.41</td>\n",
       "      <td>72.58</td>\n",
       "      <td>5811.16</td>\n",
       "      <td>5677.40</td>\n",
       "      <td>133.76</td>\n",
       "      <td>0.0</td>\n",
       "      <td>0</td>\n",
       "      <td>2015</td>\n",
       "      <td>0</td>\n",
       "    </tr>\n",
       "    <tr>\n",
       "      <th>4</th>\n",
       "      <td>1.28</td>\n",
       "      <td>51039.60</td>\n",
       "      <td>941.48</td>\n",
       "      <td>43838.39</td>\n",
       "      <td>75.78</td>\n",
       "      <td>6183.95</td>\n",
       "      <td>5986.26</td>\n",
       "      <td>197.69</td>\n",
       "      <td>0.0</td>\n",
       "      <td>0</td>\n",
       "      <td>2015</td>\n",
       "      <td>0</td>\n",
       "    </tr>\n",
       "  </tbody>\n",
       "</table>\n",
       "</div>"
      ],
      "text/plain": [
       "   AveragePrice  Total Volume     4046       4225    4770  Total Bags  \\\n",
       "0          1.33      64236.62  1036.74   54454.85   48.16     8696.87   \n",
       "1          1.35      54876.98   674.28   44638.81   58.33     9505.56   \n",
       "2          0.93     118220.22   794.70  109149.67  130.50     8145.35   \n",
       "3          1.08      78992.15  1132.00   71976.41   72.58     5811.16   \n",
       "4          1.28      51039.60   941.48   43838.39   75.78     6183.95   \n",
       "\n",
       "   Small Bags  Large Bags  XLarge Bags  type  year  region  \n",
       "0     8603.62       93.25          0.0     0  2015       0  \n",
       "1     9408.07       97.49          0.0     0  2015       0  \n",
       "2     8042.21      103.14          0.0     0  2015       0  \n",
       "3     5677.40      133.76          0.0     0  2015       0  \n",
       "4     5986.26      197.69          0.0     0  2015       0  "
      ]
     },
     "execution_count": 7,
     "metadata": {},
     "output_type": "execute_result"
    }
   ],
   "source": [
    "data = dataset.drop(['Date'], axis=1).copy()\n",
    "for i in du_encoder:\n",
    "    data[i] = data[i].map(du_encoder[i])\n",
    "data.head()"
   ]
  },
  {
   "cell_type": "code",
   "execution_count": 8,
   "metadata": {
    "scrolled": true
   },
   "outputs": [
    {
     "data": {
      "text/html": [
       "<div>\n",
       "<style scoped>\n",
       "    .dataframe tbody tr th:only-of-type {\n",
       "        vertical-align: middle;\n",
       "    }\n",
       "\n",
       "    .dataframe tbody tr th {\n",
       "        vertical-align: top;\n",
       "    }\n",
       "\n",
       "    .dataframe thead th {\n",
       "        text-align: right;\n",
       "    }\n",
       "</style>\n",
       "<table border=\"1\" class=\"dataframe\">\n",
       "  <thead>\n",
       "    <tr style=\"text-align: right;\">\n",
       "      <th></th>\n",
       "      <th>AveragePrice</th>\n",
       "      <th>Total Volume</th>\n",
       "      <th>4046</th>\n",
       "      <th>4225</th>\n",
       "      <th>4770</th>\n",
       "      <th>Total Bags</th>\n",
       "      <th>Small Bags</th>\n",
       "      <th>Large Bags</th>\n",
       "      <th>XLarge Bags</th>\n",
       "      <th>type</th>\n",
       "      <th>year</th>\n",
       "      <th>region</th>\n",
       "    </tr>\n",
       "  </thead>\n",
       "  <tbody>\n",
       "    <tr>\n",
       "      <th>count</th>\n",
       "      <td>18249.000000</td>\n",
       "      <td>1.824900e+04</td>\n",
       "      <td>1.824900e+04</td>\n",
       "      <td>1.824900e+04</td>\n",
       "      <td>1.824900e+04</td>\n",
       "      <td>1.824900e+04</td>\n",
       "      <td>1.824900e+04</td>\n",
       "      <td>1.824900e+04</td>\n",
       "      <td>18249.000000</td>\n",
       "      <td>18249.000000</td>\n",
       "      <td>18249.000000</td>\n",
       "      <td>18249.000000</td>\n",
       "    </tr>\n",
       "    <tr>\n",
       "      <th>mean</th>\n",
       "      <td>1.405978</td>\n",
       "      <td>8.506440e+05</td>\n",
       "      <td>2.930084e+05</td>\n",
       "      <td>2.951546e+05</td>\n",
       "      <td>2.283974e+04</td>\n",
       "      <td>2.396392e+05</td>\n",
       "      <td>1.821947e+05</td>\n",
       "      <td>5.433809e+04</td>\n",
       "      <td>3106.426507</td>\n",
       "      <td>0.499918</td>\n",
       "      <td>2016.147899</td>\n",
       "      <td>26.495644</td>\n",
       "    </tr>\n",
       "    <tr>\n",
       "      <th>std</th>\n",
       "      <td>0.402677</td>\n",
       "      <td>3.453545e+06</td>\n",
       "      <td>1.264989e+06</td>\n",
       "      <td>1.204120e+06</td>\n",
       "      <td>1.074641e+05</td>\n",
       "      <td>9.862424e+05</td>\n",
       "      <td>7.461785e+05</td>\n",
       "      <td>2.439660e+05</td>\n",
       "      <td>17692.894652</td>\n",
       "      <td>0.500014</td>\n",
       "      <td>0.939938</td>\n",
       "      <td>15.583788</td>\n",
       "    </tr>\n",
       "    <tr>\n",
       "      <th>min</th>\n",
       "      <td>0.440000</td>\n",
       "      <td>8.456000e+01</td>\n",
       "      <td>0.000000e+00</td>\n",
       "      <td>0.000000e+00</td>\n",
       "      <td>0.000000e+00</td>\n",
       "      <td>0.000000e+00</td>\n",
       "      <td>0.000000e+00</td>\n",
       "      <td>0.000000e+00</td>\n",
       "      <td>0.000000</td>\n",
       "      <td>0.000000</td>\n",
       "      <td>2015.000000</td>\n",
       "      <td>0.000000</td>\n",
       "    </tr>\n",
       "    <tr>\n",
       "      <th>25%</th>\n",
       "      <td>1.100000</td>\n",
       "      <td>1.083858e+04</td>\n",
       "      <td>8.540700e+02</td>\n",
       "      <td>3.008780e+03</td>\n",
       "      <td>0.000000e+00</td>\n",
       "      <td>5.088640e+03</td>\n",
       "      <td>2.849420e+03</td>\n",
       "      <td>1.274700e+02</td>\n",
       "      <td>0.000000</td>\n",
       "      <td>0.000000</td>\n",
       "      <td>2015.000000</td>\n",
       "      <td>13.000000</td>\n",
       "    </tr>\n",
       "    <tr>\n",
       "      <th>50%</th>\n",
       "      <td>1.370000</td>\n",
       "      <td>1.073768e+05</td>\n",
       "      <td>8.645300e+03</td>\n",
       "      <td>2.906102e+04</td>\n",
       "      <td>1.849900e+02</td>\n",
       "      <td>3.974383e+04</td>\n",
       "      <td>2.636282e+04</td>\n",
       "      <td>2.647710e+03</td>\n",
       "      <td>0.000000</td>\n",
       "      <td>0.000000</td>\n",
       "      <td>2016.000000</td>\n",
       "      <td>26.000000</td>\n",
       "    </tr>\n",
       "    <tr>\n",
       "      <th>75%</th>\n",
       "      <td>1.660000</td>\n",
       "      <td>4.329623e+05</td>\n",
       "      <td>1.110202e+05</td>\n",
       "      <td>1.502069e+05</td>\n",
       "      <td>6.243420e+03</td>\n",
       "      <td>1.107834e+05</td>\n",
       "      <td>8.333767e+04</td>\n",
       "      <td>2.202925e+04</td>\n",
       "      <td>132.500000</td>\n",
       "      <td>1.000000</td>\n",
       "      <td>2017.000000</td>\n",
       "      <td>40.000000</td>\n",
       "    </tr>\n",
       "    <tr>\n",
       "      <th>max</th>\n",
       "      <td>3.250000</td>\n",
       "      <td>6.250565e+07</td>\n",
       "      <td>2.274362e+07</td>\n",
       "      <td>2.047057e+07</td>\n",
       "      <td>2.546439e+06</td>\n",
       "      <td>1.937313e+07</td>\n",
       "      <td>1.338459e+07</td>\n",
       "      <td>5.719097e+06</td>\n",
       "      <td>551693.650000</td>\n",
       "      <td>1.000000</td>\n",
       "      <td>2018.000000</td>\n",
       "      <td>53.000000</td>\n",
       "    </tr>\n",
       "  </tbody>\n",
       "</table>\n",
       "</div>"
      ],
      "text/plain": [
       "       AveragePrice  Total Volume          4046          4225          4770  \\\n",
       "count  18249.000000  1.824900e+04  1.824900e+04  1.824900e+04  1.824900e+04   \n",
       "mean       1.405978  8.506440e+05  2.930084e+05  2.951546e+05  2.283974e+04   \n",
       "std        0.402677  3.453545e+06  1.264989e+06  1.204120e+06  1.074641e+05   \n",
       "min        0.440000  8.456000e+01  0.000000e+00  0.000000e+00  0.000000e+00   \n",
       "25%        1.100000  1.083858e+04  8.540700e+02  3.008780e+03  0.000000e+00   \n",
       "50%        1.370000  1.073768e+05  8.645300e+03  2.906102e+04  1.849900e+02   \n",
       "75%        1.660000  4.329623e+05  1.110202e+05  1.502069e+05  6.243420e+03   \n",
       "max        3.250000  6.250565e+07  2.274362e+07  2.047057e+07  2.546439e+06   \n",
       "\n",
       "         Total Bags    Small Bags    Large Bags    XLarge Bags          type  \\\n",
       "count  1.824900e+04  1.824900e+04  1.824900e+04   18249.000000  18249.000000   \n",
       "mean   2.396392e+05  1.821947e+05  5.433809e+04    3106.426507      0.499918   \n",
       "std    9.862424e+05  7.461785e+05  2.439660e+05   17692.894652      0.500014   \n",
       "min    0.000000e+00  0.000000e+00  0.000000e+00       0.000000      0.000000   \n",
       "25%    5.088640e+03  2.849420e+03  1.274700e+02       0.000000      0.000000   \n",
       "50%    3.974383e+04  2.636282e+04  2.647710e+03       0.000000      0.000000   \n",
       "75%    1.107834e+05  8.333767e+04  2.202925e+04     132.500000      1.000000   \n",
       "max    1.937313e+07  1.338459e+07  5.719097e+06  551693.650000      1.000000   \n",
       "\n",
       "               year        region  \n",
       "count  18249.000000  18249.000000  \n",
       "mean    2016.147899     26.495644  \n",
       "std        0.939938     15.583788  \n",
       "min     2015.000000      0.000000  \n",
       "25%     2015.000000     13.000000  \n",
       "50%     2016.000000     26.000000  \n",
       "75%     2017.000000     40.000000  \n",
       "max     2018.000000     53.000000  "
      ]
     },
     "execution_count": 8,
     "metadata": {},
     "output_type": "execute_result"
    }
   ],
   "source": [
    "data.describe()"
   ]
  },
  {
   "cell_type": "markdown",
   "metadata": {},
   "source": [
    "<b>Визуализация данных</b>"
   ]
  },
  {
   "cell_type": "code",
   "execution_count": 9,
   "metadata": {},
   "outputs": [
    {
     "data": {
      "text/plain": [
       "<matplotlib.axes._subplots.AxesSubplot at 0x15a23243a90>"
      ]
     },
     "execution_count": 9,
     "metadata": {},
     "output_type": "execute_result"
    },
    {
     "data": {
      "image/png": "[encoded data removed]",
      "text/plain": [
       "<Figure size 1080x720 with 2 Axes>"
      ]
     },
     "metadata": {
      "needs_background": "light"
     },
     "output_type": "display_data"
    }
   ],
   "source": [
    "plt.figure(figsize=(15, 10))\n",
    "sns.heatmap(data.corr(),annot=True, fmt='.3f', linewidths=2)"
   ]
  },
  {
   "cell_type": "markdown",
   "metadata": {},
   "source": [
    "Разделение датасета на обучающую и тестовую выборку"
   ]
  },
  {
   "cell_type": "code",
   "execution_count": 10,
   "metadata": {},
   "outputs": [],
   "source": [
    "y = data['AveragePrice']\n",
    "x = data.drop(columns = ['AveragePrice'])\n",
    "x_train, x_test, y_train, y_test = train_test_split(x,y, test_size = 0.1)\n",
    "\n",
    "df_train = pd.concat([x_train, y_train], axis = 1)\n",
    "df_test = pd.concat([x_test, y_test], axis = 1)"
   ]
  },
  {
   "cell_type": "markdown",
   "metadata": {},
   "source": [
    "<b>Линейная регрессия</b>"
   ]
  },
  {
   "cell_type": "code",
   "execution_count": 11,
   "metadata": {},
   "outputs": [],
   "source": [
    "linreg = LinearRegression().fit(x_train,y_train)"
   ]
  },
  {
   "cell_type": "code",
   "execution_count": 12,
   "metadata": {},
   "outputs": [
    {
     "data": {
      "text/plain": [
       "0.388"
      ]
     },
     "execution_count": 12,
     "metadata": {},
     "output_type": "execute_result"
    }
   ],
   "source": [
    "round(linreg.score(x_test, y_test), 3)"
   ]
  },
  {
   "cell_type": "markdown",
   "metadata": {},
   "source": [
    "<b>Пример работы алгоритма</b><br>\n",
    "выберем случайную строку и посчитаем предсказанную цену для данной строки и сравним с average price"
   ]
  },
  {
   "cell_type": "code",
   "execution_count": 13,
   "metadata": {},
   "outputs": [
    {
     "data": {
      "text/html": [
       "<div>\n",
       "<style scoped>\n",
       "    .dataframe tbody tr th:only-of-type {\n",
       "        vertical-align: middle;\n",
       "    }\n",
       "\n",
       "    .dataframe tbody tr th {\n",
       "        vertical-align: top;\n",
       "    }\n",
       "\n",
       "    .dataframe thead th {\n",
       "        text-align: right;\n",
       "    }\n",
       "</style>\n",
       "<table border=\"1\" class=\"dataframe\">\n",
       "  <thead>\n",
       "    <tr style=\"text-align: right;\">\n",
       "      <th></th>\n",
       "      <th>AveragePrice</th>\n",
       "      <th>Total Volume</th>\n",
       "      <th>4046</th>\n",
       "      <th>4225</th>\n",
       "      <th>4770</th>\n",
       "      <th>Total Bags</th>\n",
       "      <th>Small Bags</th>\n",
       "      <th>Large Bags</th>\n",
       "      <th>XLarge Bags</th>\n",
       "      <th>type</th>\n",
       "      <th>year</th>\n",
       "      <th>region</th>\n",
       "    </tr>\n",
       "  </thead>\n",
       "  <tbody>\n",
       "    <tr>\n",
       "      <th>48</th>\n",
       "      <td>1.63</td>\n",
       "      <td>54932.83</td>\n",
       "      <td>11160.54</td>\n",
       "      <td>26029.58</td>\n",
       "      <td>3297.83</td>\n",
       "      <td>14444.88</td>\n",
       "      <td>11428.78</td>\n",
       "      <td>3016.1</td>\n",
       "      <td>0.0</td>\n",
       "      <td>1</td>\n",
       "      <td>2015</td>\n",
       "      <td>25</td>\n",
       "    </tr>\n",
       "  </tbody>\n",
       "</table>\n",
       "</div>"
      ],
      "text/plain": [
       "    AveragePrice  Total Volume      4046      4225     4770  Total Bags  \\\n",
       "48          1.63      54932.83  11160.54  26029.58  3297.83    14444.88   \n",
       "\n",
       "    Small Bags  Large Bags  XLarge Bags  type  year  region  \n",
       "48    11428.78      3016.1          0.0     1  2015      25  "
      ]
     },
     "execution_count": 13,
     "metadata": {},
     "output_type": "execute_result"
    }
   ],
   "source": [
    "rand_row = data.sample()\n",
    "rand_row"
   ]
  },
  {
   "cell_type": "code",
   "execution_count": 14,
   "metadata": {},
   "outputs": [
    {
     "data": {
      "text/plain": [
       "1.608505145631895"
      ]
     },
     "execution_count": 14,
     "metadata": {},
     "output_type": "execute_result"
    }
   ],
   "source": [
    "linreg.predict(rand_row.drop(\"AveragePrice\", axis=1))[0]"
   ]
  }
 ],
 "metadata": {
  "kernelspec": {
   "display_name": "Python 3",
   "language": "python",
   "name": "python3"
  },
  "language_info": {
   "codemirror_mode": {
    "name": "ipython",
    "version": 3
   },
   "file_extension": ".py",
   "mimetype": "text/x-python",
   "name": "python",
   "nbconvert_exporter": "python",
   "pygments_lexer": "ipython3",
   "version": "3.8.3"
  }
 },
 "nbformat": 4,
 "nbformat_minor": 4
}
